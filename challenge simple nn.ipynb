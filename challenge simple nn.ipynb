{
 "cells": [
  {
   "cell_type": "code",
   "execution_count": 224,
   "id": "70ab3e83",
   "metadata": {},
   "outputs": [],
   "source": [
    "import numpy as np\n",
    "import pandas as pd\n",
    "import torch\n",
    "import torch.nn as nn\n",
    "import torch.nn.functional as F"
   ]
  },
  {
   "cell_type": "code",
   "execution_count": 225,
   "id": "5d35bde5",
   "metadata": {},
   "outputs": [],
   "source": [
    "df = pd.read_csv(\"heart.csv\")"
   ]
  },
  {
   "cell_type": "code",
   "execution_count": 226,
   "id": "f044701a",
   "metadata": {},
   "outputs": [],
   "source": [
    "x = df.drop('HeartDisease', axis=1)\n",
    "y = df['HeartDisease']"
   ]
  },
  {
   "cell_type": "markdown",
   "id": "0159c9ac",
   "metadata": {},
   "source": [
    "#### train test split"
   ]
  },
  {
   "cell_type": "code",
   "execution_count": 227,
   "id": "5df8b6f5",
   "metadata": {},
   "outputs": [],
   "source": [
    "from sklearn.model_selection import train_test_split\n",
    "from sklearn.preprocessing import OneHotEncoder"
   ]
  },
  {
   "cell_type": "code",
   "execution_count": 228,
   "id": "c4dcd468",
   "metadata": {},
   "outputs": [],
   "source": [
    "x_train, x_test, y_train, y_test = train_test_split(x,y,test_size=0.2,random_state=22)"
   ]
  },
  {
   "cell_type": "markdown",
   "id": "1b740d21",
   "metadata": {},
   "source": [
    "#### one hot encode object data"
   ]
  },
  {
   "cell_type": "code",
   "execution_count": 229,
   "id": "ab2797da",
   "metadata": {},
   "outputs": [],
   "source": [
    "object_cols = df.select_dtypes(\"object\").columns.values.tolist()"
   ]
  },
  {
   "cell_type": "code",
   "execution_count": 230,
   "id": "3908443f",
   "metadata": {},
   "outputs": [],
   "source": [
    "OH_encoder = OneHotEncoder(handle_unknown='ignore', sparse=False)\n",
    "OH_cols_train = pd.DataFrame(OH_encoder.fit_transform(x_train[object_cols]))\n",
    "OH_cols_test = pd.DataFrame(OH_encoder.transform(x_test[object_cols]))"
   ]
  },
  {
   "cell_type": "code",
   "execution_count": 231,
   "id": "a3dba3df",
   "metadata": {},
   "outputs": [],
   "source": [
    "OH_cols_train.index = x_train.index\n",
    "OH_cols_test.index = x_test.index"
   ]
  },
  {
   "cell_type": "code",
   "execution_count": 232,
   "id": "a9b3d8cd",
   "metadata": {},
   "outputs": [],
   "source": [
    "num_X_train = x_train.drop(object_cols, axis=1)\n",
    "num_X_test = x_test.drop(object_cols, axis=1)"
   ]
  },
  {
   "cell_type": "code",
   "execution_count": 233,
   "id": "e36d4fff",
   "metadata": {},
   "outputs": [],
   "source": [
    "oh_x_train = pd.concat([num_X_train, OH_cols_train], axis=1)\n",
    "oh_x_test = pd.concat([num_X_test, OH_cols_test], axis=1)"
   ]
  },
  {
   "cell_type": "code",
   "execution_count": 234,
   "id": "5b581f39",
   "metadata": {},
   "outputs": [
    {
     "data": {
      "text/plain": [
       "(734, 20)"
      ]
     },
     "execution_count": 234,
     "metadata": {},
     "output_type": "execute_result"
    }
   ],
   "source": [
    "oh_x_train.shape"
   ]
  },
  {
   "cell_type": "code",
   "execution_count": 235,
   "id": "79d4b9c3",
   "metadata": {},
   "outputs": [],
   "source": [
    "scaler = sklearn.preprocessing.StandardScaler()\n",
    "\n",
    "oh_x_train = scaler.fit_transform(X=oh_x_train)"
   ]
  },
  {
   "cell_type": "code",
   "execution_count": 236,
   "id": "c99c941e",
   "metadata": {},
   "outputs": [],
   "source": [
    "oh_x_test = scaler.transform(oh_x_test)"
   ]
  },
  {
   "cell_type": "markdown",
   "id": "8f3f8b34",
   "metadata": {},
   "source": [
    "### NN definition"
   ]
  },
  {
   "cell_type": "code",
   "execution_count": 237,
   "id": "c7817b48",
   "metadata": {},
   "outputs": [],
   "source": [
    "class MLP(nn.Module):\n",
    "    def __init__(self, in_dim, h_dim, num_hidden, out_dim):\n",
    "        super().__init__()\n",
    "        \n",
    "        self.in_lin = nn.Linear(in_dim, h_dim, dtype=torch.float64)\n",
    "        \n",
    "        #TODO: check how to add list of layers to model parameters\n",
    "        self.hidden_layers = [nn.Linear(h_dim, h_dim, dtype=torch.float64) for i in range(num_hidden)]\n",
    "        self.out_lin = nn.Linear(h_dim, out_dim, dtype=torch.float64)\n",
    "        \n",
    "    def forward(self, x):\n",
    "        \"\"\"\n",
    "        Returns raw logits\n",
    "        \"\"\"\n",
    "        x = F.relu(self.in_lin(x))\n",
    "        \n",
    "        #for layer in self.hidden_layers:\n",
    "        #    x = F.relu(layer(x))\n",
    "        \n",
    "        x = self.out_lin(x)\n",
    "        \n",
    "        return x"
   ]
  },
  {
   "cell_type": "code",
   "execution_count": 238,
   "id": "997bfbe0",
   "metadata": {},
   "outputs": [],
   "source": [
    "#instance of an mlp binary classifier\n",
    "mlp_class = MLP(oh_x_train.shape[1], 256, 2, 2)"
   ]
  },
  {
   "cell_type": "markdown",
   "id": "fddc08a6",
   "metadata": {},
   "source": [
    "#### Hyper parameter definition"
   ]
  },
  {
   "cell_type": "code",
   "execution_count": 239,
   "id": "efcb5674",
   "metadata": {},
   "outputs": [],
   "source": [
    "import math"
   ]
  },
  {
   "cell_type": "code",
   "execution_count": 240,
   "id": "b74ffe9a",
   "metadata": {},
   "outputs": [],
   "source": [
    "EPOCHS = 30\n",
    "BS = 128\n",
    "NB = math.ceil(oh_x_train.shape[0]/BS)"
   ]
  },
  {
   "cell_type": "markdown",
   "id": "d8305c7a",
   "metadata": {},
   "source": [
    "#### Train loop"
   ]
  },
  {
   "cell_type": "code",
   "execution_count": 241,
   "id": "c7f4eef6",
   "metadata": {},
   "outputs": [],
   "source": [
    "def accuracy(logits, y):\n",
    "    probs = F.softmax(logits, dim=1)\n",
    "    preds = torch.argmax(probs, dim = 1).numpy()\n",
    "    y = y.numpy()\n",
    "    return (preds==y).sum()/len(y)"
   ]
  },
  {
   "cell_type": "code",
   "execution_count": 242,
   "id": "fe144287",
   "metadata": {},
   "outputs": [],
   "source": [
    "optimizer = torch.optim.Adam(mlp_class.parameters(), lr=1e-3)\n",
    "criterion = nn.CrossEntropyLoss()"
   ]
  },
  {
   "cell_type": "code",
   "execution_count": 243,
   "id": "8d522b7e",
   "metadata": {},
   "outputs": [
    {
     "name": "stdout",
     "output_type": "stream",
     "text": [
      "Epoch  1 train accuracy: : 0.7872 test accuracy: 0.8315\n",
      "Epoch  2 train accuracy: : 0.8298 test accuracy: 0.8533\n",
      "Epoch  3 train accuracy: : 0.8298 test accuracy: 0.8533\n",
      "Epoch  4 train accuracy: : 0.8404 test accuracy: 0.8696\n",
      "Epoch  5 train accuracy: : 0.8404 test accuracy: 0.8750\n",
      "Epoch  6 train accuracy: : 0.8404 test accuracy: 0.8750\n",
      "Epoch  7 train accuracy: : 0.8404 test accuracy: 0.8696\n",
      "Epoch  8 train accuracy: : 0.8511 test accuracy: 0.8696\n",
      "Epoch  9 train accuracy: : 0.8511 test accuracy: 0.8641\n",
      "Epoch 10 train accuracy: : 0.8511 test accuracy: 0.8641\n",
      "Epoch 11 train accuracy: : 0.8511 test accuracy: 0.8641\n",
      "Epoch 12 train accuracy: : 0.8511 test accuracy: 0.8641\n",
      "Epoch 13 train accuracy: : 0.8511 test accuracy: 0.8641\n",
      "Epoch 14 train accuracy: : 0.8511 test accuracy: 0.8641\n",
      "Epoch 15 train accuracy: : 0.8511 test accuracy: 0.8533\n",
      "Epoch 16 train accuracy: : 0.8511 test accuracy: 0.8533\n",
      "Epoch 17 train accuracy: : 0.8511 test accuracy: 0.8533\n",
      "Epoch 18 train accuracy: : 0.8511 test accuracy: 0.8533\n",
      "Epoch 19 train accuracy: : 0.8617 test accuracy: 0.8533\n",
      "Epoch 20 train accuracy: : 0.8723 test accuracy: 0.8478\n",
      "Epoch 21 train accuracy: : 0.8723 test accuracy: 0.8533\n",
      "Epoch 22 train accuracy: : 0.8723 test accuracy: 0.8587\n",
      "Epoch 23 train accuracy: : 0.8723 test accuracy: 0.8641\n",
      "Epoch 24 train accuracy: : 0.8723 test accuracy: 0.8641\n",
      "Epoch 25 train accuracy: : 0.8723 test accuracy: 0.8641\n",
      "Epoch 26 train accuracy: : 0.8723 test accuracy: 0.8696\n",
      "Epoch 27 train accuracy: : 0.8723 test accuracy: 0.8750\n",
      "Epoch 28 train accuracy: : 0.8830 test accuracy: 0.8750\n",
      "Epoch 29 train accuracy: : 0.8830 test accuracy: 0.8696\n",
      "Epoch 30 train accuracy: : 0.8830 test accuracy: 0.8696\n"
     ]
    }
   ],
   "source": [
    "for e in range(1, EPOCHS + 1):\n",
    "    for batch in range(NB):\n",
    "        batch_x = np.array(oh_x_train[BS*batch:(batch+1)*BS])\n",
    "        batch_y = np.array(y_train[BS*batch:(batch+1)*BS])\n",
    "        \n",
    "        \n",
    "        tensor_batch_x = torch.tensor(batch_x, dtype=torch.float64)\n",
    "        tensor_batch_y = torch.tensor(batch_y, dtype=torch.long)\n",
    "        \n",
    "        \n",
    "        optimizer.zero_grad()\n",
    "        logits = mlp_class(tensor_batch_x)\n",
    "        loss = criterion(logits, tensor_batch_y)\n",
    "        loss.backward()\n",
    "        \n",
    "        optimizer.step()\n",
    "        \n",
    "        with torch.no_grad():\n",
    "            test_logits = mlp_class(torch.tensor(oh_x_test, dtype=torch.float64))\n",
    "            test_y = torch.tensor(np.array(y_test), dtype=torch.long)\n",
    "            \n",
    "            test_acc = accuracy(test_logits, test_y)\n",
    "        \n",
    "    print(f\"Epoch {e:2} train accuracy: : {accuracy(logits, tensor_batch_y):.4f} test accuracy: {test_acc:.4f}\")"
   ]
  },
  {
   "cell_type": "markdown",
   "id": "f615c7bc",
   "metadata": {},
   "source": [
    "### Model evaluation"
   ]
  },
  {
   "cell_type": "code",
   "execution_count": 244,
   "id": "4f3dab12",
   "metadata": {},
   "outputs": [],
   "source": [
    "from sklearn.metrics import classification_report"
   ]
  },
  {
   "cell_type": "code",
   "execution_count": 245,
   "id": "558b8faf",
   "metadata": {},
   "outputs": [],
   "source": [
    "with torch.no_grad():\n",
    "    test_logits = mlp_class(torch.tensor(oh_x_test, dtype=torch.float64))\n",
    "    test_preds = torch.argmax(F.softmax(test_logits, dim=1), dim=1)\n",
    "\n",
    "    test_y = torch.tensor(np.array(y_test), dtype=torch.long)"
   ]
  },
  {
   "cell_type": "code",
   "execution_count": 246,
   "id": "94aa8d88",
   "metadata": {},
   "outputs": [
    {
     "name": "stdout",
     "output_type": "stream",
     "text": [
      "              precision    recall  f1-score   support\n",
      "\n",
      "           0       0.84      0.84      0.84        76\n",
      "           1       0.89      0.89      0.89       108\n",
      "\n",
      "    accuracy                           0.87       184\n",
      "   macro avg       0.87      0.87      0.87       184\n",
      "weighted avg       0.87      0.87      0.87       184\n",
      "\n"
     ]
    }
   ],
   "source": [
    "print(classification_report(test_y, test_preds))"
   ]
  }
 ],
 "metadata": {
  "kernelspec": {
   "display_name": "Python 3 (ipykernel)",
   "language": "python",
   "name": "python3"
  },
  "language_info": {
   "codemirror_mode": {
    "name": "ipython",
    "version": 3
   },
   "file_extension": ".py",
   "mimetype": "text/x-python",
   "name": "python",
   "nbconvert_exporter": "python",
   "pygments_lexer": "ipython3",
   "version": "3.9.7"
  }
 },
 "nbformat": 4,
 "nbformat_minor": 5
}
